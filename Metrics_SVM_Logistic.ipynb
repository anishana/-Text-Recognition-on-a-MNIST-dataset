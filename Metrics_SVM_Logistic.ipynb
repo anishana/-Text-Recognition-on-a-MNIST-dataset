{
  "nbformat": 4,
  "nbformat_minor": 0,
  "metadata": {
    "colab": {
      "name": "Metrics_SVM_Logistic.ipynb",
      "provenance": [],
      "collapsed_sections": [],
      "include_colab_link": true
    },
    "kernelspec": {
      "name": "python3",
      "display_name": "Python 3"
    },
    "language_info": {
      "name": "python"
    }
  },
  "cells": [
    {
      "cell_type": "markdown",
      "metadata": {
        "id": "view-in-github",
        "colab_type": "text"
      },
      "source": [
        "<a href=\"https://colab.research.google.com/github/anishana/Text-Recognition-on-a-MNIST-dataset/blob/main/Metrics_SVM_Logistic.ipynb\" target=\"_parent\"><img src=\"https://colab.research.google.com/assets/colab-badge.svg\" alt=\"Open In Colab\"/></a>"
      ]
    },
    {
      "cell_type": "code",
      "metadata": {
        "id": "boMedFEqlOOk",
        "colab": {
          "base_uri": "https://localhost:8080/"
        },
        "outputId": "acfe308e-f984-4072-dd05-6cb63ea2f963"
      },
      "source": [
        "import pandas as pd\n",
        "from google.colab import drive,files\n",
        "import matplotlib.pyplot as plt\n",
        "import numpy as np \n",
        "import seaborn as sns\n",
        "from sklearn.metrics import confusion_matrix,accuracy_score,f1_score,roc_curve,roc_auc_score\n",
        "from keras.datasets import mnist\n",
        "\n",
        "\n",
        "drive.mount('/content/drive')\n",
        "(x_train, y_train), (x_test, y_test) = mnist.load_data()"
      ],
      "execution_count": null,
      "outputs": [
        {
          "output_type": "stream",
          "name": "stdout",
          "text": [
            "Mounted at /content/drive\n",
            "Downloading data from https://storage.googleapis.com/tensorflow/tf-keras-datasets/mnist.npz\n",
            "11493376/11490434 [==============================] - 0s 0us/step\n",
            "11501568/11490434 [==============================] - 0s 0us/step\n"
          ]
        }
      ]
    },
    {
      "cell_type": "code",
      "metadata": {
        "id": "V14sBIKK_rAp"
      },
      "source": [
        "def show_images(x_train):\n",
        "  n = 5\n",
        "  fig, axs = plt.subplots(nrows=n, ncols=n, sharex=True, sharey=True, figsize=(12, 12))\n",
        "  for i in range(n**2):\n",
        "    ax = axs[i // n, i % n]\n",
        "    \n",
        "    ax.imshow((x_train[i, :, :] + 1)/2)\n",
        "    ax.axis('off')\n",
        "  plt.tight_layout()\n",
        "  plt.show()"
      ],
      "execution_count": null,
      "outputs": []
    },
    {
      "cell_type": "code",
      "metadata": {
        "id": "UDgUJCTiyn9M"
      },
      "source": [
        "def display_bar_graph(df_label, df_counts, label, count, title):\n",
        "  fig = plt.figure(figsize=(9, 6))\n",
        "  fig.tight_layout()\n",
        "  ax = fig.add_subplot(111)\n",
        "  ax.bar(df_labels, df_counts)\n",
        "  # sns.countplot(df_counts)\n",
        "  ax.set_xlabel(label)\n",
        "  ax.set_ylabel(count)\n",
        "  ax.set_title(title)"
      ],
      "execution_count": null,
      "outputs": []
    },
    {
      "cell_type": "code",
      "metadata": {
        "id": "bJAZmVe4BVHx"
      },
      "source": [
        "def display_accuracy_score(y_true,y_pred):\n",
        "  cm = confusion_matrix(y_true=y_true, y_pred=y_pred)\n",
        "  plt.figure(figsize=(9,9))\n",
        "  sns.heatmap(cm, annot=True, fmt=\"0\", linewidths=.5, square = True, cmap = 'Blues_r');\n",
        "  plt.ylabel('Actual label');\n",
        "  plt.xlabel('Predicted label');\n",
        "  all_sample_title = 'Accuracy Score: {0}'.format(accuracy_score(y_true, y_pred))\n",
        "  plt.title(all_sample_title, size = 15);"
      ],
      "execution_count": null,
      "outputs": []
    },
    {
      "cell_type": "code",
      "metadata": {
        "id": "cba3XcQzWs6p"
      },
      "source": [
        "def example_predictions(test, result):\n",
        "  a = np.random.randint(0,270,6)\n",
        "  plt.figure(figsize=(20,4))\n",
        "  for plotIndex,i in enumerate(a):\n",
        "    plt.subplot(1, 6, plotIndex+1)\n",
        "    two_d = np.reshape(test[i], (28, 28))\n",
        "    #(np.reshape(test[i], (28, 28)) * 255).astype(np.uint8)\n",
        "    plt.title('Predicted Label: {0}'.format(result[i]))\n",
        "    plt.imshow(two_d)"
      ],
      "execution_count": null,
      "outputs": []
    },
    {
      "cell_type": "code",
      "metadata": {
        "id": "LhQzn5U7dWtn"
      },
      "source": [
        "def misclassified_images(y_test, y_pred, X_test):\n",
        "  index = 0\n",
        "  misclassifiedIndexes = []\n",
        "  for label, predict in zip(y_test, y_pred):\n",
        "      if label != predict: \n",
        "          misclassifiedIndexes.append(index)\n",
        "      index +=1\n",
        "\n",
        "  # print(\"misclassifiedIndexes: \", misclassifiedIndexes[0:5])\n",
        "  # print(X_test.shape)\n",
        "  plt.figure(figsize=(20,4))\n",
        "  for plotIndex, badIndex in enumerate(misclassifiedIndexes[0:5]):\n",
        "      plt.subplot(1, 5, plotIndex + 1)\n",
        "      plt.imshow(np.reshape(X_test[badIndex], (28,28)))\n",
        "      plt.title('Predicted: {}, Actual: {}'.format(y_pred[badIndex], y_test[badIndex]), fontsize = 15)\n"
      ],
      "execution_count": null,
      "outputs": []
    },
    {
      "cell_type": "code",
      "metadata": {
        "id": "4_MEs9_ejKKN"
      },
      "source": [
        "def plot_roc_curve(y_train, y_pred):\n",
        "    y_train  = (y_train == 9)\n",
        "    fpr, tpr, thresholds = roc_curve(y_train, y_pred)\n",
        "\n",
        "    roc_auc = roc_auc_score(y_train, y_pred)\n",
        "\n",
        "    plt.figure(figsize=(8,4))\n",
        "    plt.plot(fpr, tpr, label = 'ROC curve (area = {})'.format(roc_auc))\n",
        "    plt.plot([0,1], [0,1], 'k--')\n",
        "    plt.axis([0,1,0,1])\n",
        "    plt.xlabel(\"False Positive Rate\")\n",
        "    plt.ylabel(\"True Positive Rate\")\n",
        "    plt.legend(loc=\"lower right\")"
      ],
      "execution_count": null,
      "outputs": []
    },
    {
      "cell_type": "code",
      "metadata": {
        "id": "JVHeyIwXmLt5"
      },
      "source": [
        "uniq_labels, uniq_counts = np.unique(y_train, return_counts=True)\n",
        "# display_bar_graph(uniq_labels, uniq_counts, 'Labels', 'Counts', 'Training Data')\n",
        "show_images(x_train)\n",
        "plt.figure(figsize=(9,9))\n",
        "sns.countplot(y_train)\n",
        "plt.ylabel('Count');\n",
        "plt.xlabel('Labels');\n",
        "plt.title('Training Data')"
      ],
      "execution_count": null,
      "outputs": []
    },
    {
      "cell_type": "code",
      "metadata": {
        "id": "-lIpzIqQDHwl"
      },
      "source": [
        "#SVM Predictions for Balanced Dataset\n",
        "list_of_models =  ['svm','logistic']\n",
        "list_of_filenames = ['imbalanced','balanced','imbalanced_asym', 'balanced_asym','imbalanced_sym','balanced_sym']\n",
        "for model_type in list_of_models:\n",
        "  for noise_type in list_of_filenames:\n",
        "    df = pd.read_csv('/content/drive/My Drive/CSE555/'+noise_type+'_'+model_type+'.csv')\n",
        "    df_labels, df_counts = np.unique(df['labels'], return_counts=True)\n",
        "    display_bar_graph(df_labels, df_counts, 'Labels', 'Counts', model_type+' Predictions for '+noise_type+' Dataset')\n",
        "    display_accuracy_score(y_test,df['labels'])\n",
        "    # example_predictions(x_test,df['labels'])\n",
        "    misclassified_images(y_test,df['labels'],x_test)\n",
        "    plot_roc_curve(y_test, df['labels'])"
      ],
      "execution_count": null,
      "outputs": []
    }
  ]
}